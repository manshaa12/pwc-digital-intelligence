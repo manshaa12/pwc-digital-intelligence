{
 "cells": [
  {
   "cell_type": "code",
   "execution_count": 1,
   "id": "080fb1a5",
   "metadata": {
    "_cell_guid": "b1076dfc-b9ad-4769-8c92-a6c4dae69d19",
    "_uuid": "8f2839f25d086af736a60e9eeb907d3b93b6e0e5",
    "execution": {
     "iopub.execute_input": "2024-07-13T09:27:04.675374Z",
     "iopub.status.busy": "2024-07-13T09:27:04.674332Z",
     "iopub.status.idle": "2024-07-13T09:27:05.465209Z",
     "shell.execute_reply": "2024-07-13T09:27:05.463830Z"
    },
    "papermill": {
     "duration": 0.804339,
     "end_time": "2024-07-13T09:27:05.467770",
     "exception": false,
     "start_time": "2024-07-13T09:27:04.663431",
     "status": "completed"
    },
    "tags": []
   },
   "outputs": [
    {
     "name": "stdout",
     "output_type": "stream",
     "text": [
      "/kaggle/input/bank-marketing/bank-additional-names.txt\n",
      "/kaggle/input/bank-marketing/bank-additional-full.csv\n"
     ]
    }
   ],
   "source": [
    "# This Python 3 environment comes with many helpful analytics libraries installed\n",
    "# It is defined by the kaggle/python Docker image: https://github.com/kaggle/docker-python\n",
    "# For example, here's several helpful packages to load\n",
    "\n",
    "import numpy as np # linear algebra\n",
    "import pandas as pd # data processing, CSV file I/O (e.g. pd.read_csv)\n",
    "\n",
    "# Input data files are available in the read-only \"../input/\" directory\n",
    "# For example, running this (by clicking run or pressing Shift+Enter) will list all files under the input directory\n",
    "\n",
    "import os\n",
    "for dirname, _, filenames in os.walk('/kaggle/input'):\n",
    "    for filename in filenames:\n",
    "        print(os.path.join(dirname, filename))\n",
    "\n",
    "# You can write up to 20GB to the current directory (/kaggle/working/) that gets preserved as output when you create a version using \"Save & Run All\" \n",
    "# You can also write temporary files to /kaggle/temp/, but they won't be saved outside of the current session"
   ]
  },
  {
   "cell_type": "code",
   "execution_count": 2,
   "id": "c5e677d5",
   "metadata": {
    "execution": {
     "iopub.execute_input": "2024-07-13T09:27:05.487611Z",
     "iopub.status.busy": "2024-07-13T09:27:05.486641Z",
     "iopub.status.idle": "2024-07-13T09:27:05.670884Z",
     "shell.execute_reply": "2024-07-13T09:27:05.669781Z"
    },
    "papermill": {
     "duration": 0.196683,
     "end_time": "2024-07-13T09:27:05.673394",
     "exception": false,
     "start_time": "2024-07-13T09:27:05.476711",
     "status": "completed"
    },
    "tags": []
   },
   "outputs": [],
   "source": [
    "file_path = '/kaggle/input/bank-marketing/bank-additional-full.csv'\n",
    "df = pd.read_csv(file_path, sep=';')"
   ]
  },
  {
   "cell_type": "code",
   "execution_count": 3,
   "id": "4671005c",
   "metadata": {
    "execution": {
     "iopub.execute_input": "2024-07-13T09:27:05.692879Z",
     "iopub.status.busy": "2024-07-13T09:27:05.692159Z",
     "iopub.status.idle": "2024-07-13T09:27:05.771619Z",
     "shell.execute_reply": "2024-07-13T09:27:05.770523Z"
    },
    "papermill": {
     "duration": 0.091678,
     "end_time": "2024-07-13T09:27:05.773886",
     "exception": false,
     "start_time": "2024-07-13T09:27:05.682208",
     "status": "completed"
    },
    "tags": []
   },
   "outputs": [
    {
     "data": {
      "text/html": [
       "<div>\n",
       "<style scoped>\n",
       "    .dataframe tbody tr th:only-of-type {\n",
       "        vertical-align: middle;\n",
       "    }\n",
       "\n",
       "    .dataframe tbody tr th {\n",
       "        vertical-align: top;\n",
       "    }\n",
       "\n",
       "    .dataframe thead th {\n",
       "        text-align: right;\n",
       "    }\n",
       "</style>\n",
       "<table border=\"1\" class=\"dataframe\">\n",
       "  <thead>\n",
       "    <tr style=\"text-align: right;\">\n",
       "      <th></th>\n",
       "      <th>age</th>\n",
       "      <th>job</th>\n",
       "      <th>marital</th>\n",
       "      <th>education</th>\n",
       "      <th>default</th>\n",
       "      <th>housing</th>\n",
       "      <th>loan</th>\n",
       "      <th>contact</th>\n",
       "      <th>month</th>\n",
       "      <th>day_of_week</th>\n",
       "      <th>...</th>\n",
       "      <th>campaign</th>\n",
       "      <th>pdays</th>\n",
       "      <th>previous</th>\n",
       "      <th>poutcome</th>\n",
       "      <th>emp.var.rate</th>\n",
       "      <th>cons.price.idx</th>\n",
       "      <th>cons.conf.idx</th>\n",
       "      <th>euribor3m</th>\n",
       "      <th>nr.employed</th>\n",
       "      <th>y</th>\n",
       "    </tr>\n",
       "  </thead>\n",
       "  <tbody>\n",
       "    <tr>\n",
       "      <th>0</th>\n",
       "      <td>56</td>\n",
       "      <td>housemaid</td>\n",
       "      <td>married</td>\n",
       "      <td>basic.4y</td>\n",
       "      <td>no</td>\n",
       "      <td>no</td>\n",
       "      <td>no</td>\n",
       "      <td>telephone</td>\n",
       "      <td>may</td>\n",
       "      <td>mon</td>\n",
       "      <td>...</td>\n",
       "      <td>1</td>\n",
       "      <td>999</td>\n",
       "      <td>0</td>\n",
       "      <td>nonexistent</td>\n",
       "      <td>1.1</td>\n",
       "      <td>93.994</td>\n",
       "      <td>-36.4</td>\n",
       "      <td>4.857</td>\n",
       "      <td>5191.0</td>\n",
       "      <td>no</td>\n",
       "    </tr>\n",
       "    <tr>\n",
       "      <th>1</th>\n",
       "      <td>57</td>\n",
       "      <td>services</td>\n",
       "      <td>married</td>\n",
       "      <td>high.school</td>\n",
       "      <td>unknown</td>\n",
       "      <td>no</td>\n",
       "      <td>no</td>\n",
       "      <td>telephone</td>\n",
       "      <td>may</td>\n",
       "      <td>mon</td>\n",
       "      <td>...</td>\n",
       "      <td>1</td>\n",
       "      <td>999</td>\n",
       "      <td>0</td>\n",
       "      <td>nonexistent</td>\n",
       "      <td>1.1</td>\n",
       "      <td>93.994</td>\n",
       "      <td>-36.4</td>\n",
       "      <td>4.857</td>\n",
       "      <td>5191.0</td>\n",
       "      <td>no</td>\n",
       "    </tr>\n",
       "    <tr>\n",
       "      <th>2</th>\n",
       "      <td>37</td>\n",
       "      <td>services</td>\n",
       "      <td>married</td>\n",
       "      <td>high.school</td>\n",
       "      <td>no</td>\n",
       "      <td>yes</td>\n",
       "      <td>no</td>\n",
       "      <td>telephone</td>\n",
       "      <td>may</td>\n",
       "      <td>mon</td>\n",
       "      <td>...</td>\n",
       "      <td>1</td>\n",
       "      <td>999</td>\n",
       "      <td>0</td>\n",
       "      <td>nonexistent</td>\n",
       "      <td>1.1</td>\n",
       "      <td>93.994</td>\n",
       "      <td>-36.4</td>\n",
       "      <td>4.857</td>\n",
       "      <td>5191.0</td>\n",
       "      <td>no</td>\n",
       "    </tr>\n",
       "    <tr>\n",
       "      <th>3</th>\n",
       "      <td>40</td>\n",
       "      <td>admin.</td>\n",
       "      <td>married</td>\n",
       "      <td>basic.6y</td>\n",
       "      <td>no</td>\n",
       "      <td>no</td>\n",
       "      <td>no</td>\n",
       "      <td>telephone</td>\n",
       "      <td>may</td>\n",
       "      <td>mon</td>\n",
       "      <td>...</td>\n",
       "      <td>1</td>\n",
       "      <td>999</td>\n",
       "      <td>0</td>\n",
       "      <td>nonexistent</td>\n",
       "      <td>1.1</td>\n",
       "      <td>93.994</td>\n",
       "      <td>-36.4</td>\n",
       "      <td>4.857</td>\n",
       "      <td>5191.0</td>\n",
       "      <td>no</td>\n",
       "    </tr>\n",
       "    <tr>\n",
       "      <th>4</th>\n",
       "      <td>56</td>\n",
       "      <td>services</td>\n",
       "      <td>married</td>\n",
       "      <td>high.school</td>\n",
       "      <td>no</td>\n",
       "      <td>no</td>\n",
       "      <td>yes</td>\n",
       "      <td>telephone</td>\n",
       "      <td>may</td>\n",
       "      <td>mon</td>\n",
       "      <td>...</td>\n",
       "      <td>1</td>\n",
       "      <td>999</td>\n",
       "      <td>0</td>\n",
       "      <td>nonexistent</td>\n",
       "      <td>1.1</td>\n",
       "      <td>93.994</td>\n",
       "      <td>-36.4</td>\n",
       "      <td>4.857</td>\n",
       "      <td>5191.0</td>\n",
       "      <td>no</td>\n",
       "    </tr>\n",
       "    <tr>\n",
       "      <th>...</th>\n",
       "      <td>...</td>\n",
       "      <td>...</td>\n",
       "      <td>...</td>\n",
       "      <td>...</td>\n",
       "      <td>...</td>\n",
       "      <td>...</td>\n",
       "      <td>...</td>\n",
       "      <td>...</td>\n",
       "      <td>...</td>\n",
       "      <td>...</td>\n",
       "      <td>...</td>\n",
       "      <td>...</td>\n",
       "      <td>...</td>\n",
       "      <td>...</td>\n",
       "      <td>...</td>\n",
       "      <td>...</td>\n",
       "      <td>...</td>\n",
       "      <td>...</td>\n",
       "      <td>...</td>\n",
       "      <td>...</td>\n",
       "      <td>...</td>\n",
       "    </tr>\n",
       "    <tr>\n",
       "      <th>41183</th>\n",
       "      <td>73</td>\n",
       "      <td>retired</td>\n",
       "      <td>married</td>\n",
       "      <td>professional.course</td>\n",
       "      <td>no</td>\n",
       "      <td>yes</td>\n",
       "      <td>no</td>\n",
       "      <td>cellular</td>\n",
       "      <td>nov</td>\n",
       "      <td>fri</td>\n",
       "      <td>...</td>\n",
       "      <td>1</td>\n",
       "      <td>999</td>\n",
       "      <td>0</td>\n",
       "      <td>nonexistent</td>\n",
       "      <td>-1.1</td>\n",
       "      <td>94.767</td>\n",
       "      <td>-50.8</td>\n",
       "      <td>1.028</td>\n",
       "      <td>4963.6</td>\n",
       "      <td>yes</td>\n",
       "    </tr>\n",
       "    <tr>\n",
       "      <th>41184</th>\n",
       "      <td>46</td>\n",
       "      <td>blue-collar</td>\n",
       "      <td>married</td>\n",
       "      <td>professional.course</td>\n",
       "      <td>no</td>\n",
       "      <td>no</td>\n",
       "      <td>no</td>\n",
       "      <td>cellular</td>\n",
       "      <td>nov</td>\n",
       "      <td>fri</td>\n",
       "      <td>...</td>\n",
       "      <td>1</td>\n",
       "      <td>999</td>\n",
       "      <td>0</td>\n",
       "      <td>nonexistent</td>\n",
       "      <td>-1.1</td>\n",
       "      <td>94.767</td>\n",
       "      <td>-50.8</td>\n",
       "      <td>1.028</td>\n",
       "      <td>4963.6</td>\n",
       "      <td>no</td>\n",
       "    </tr>\n",
       "    <tr>\n",
       "      <th>41185</th>\n",
       "      <td>56</td>\n",
       "      <td>retired</td>\n",
       "      <td>married</td>\n",
       "      <td>university.degree</td>\n",
       "      <td>no</td>\n",
       "      <td>yes</td>\n",
       "      <td>no</td>\n",
       "      <td>cellular</td>\n",
       "      <td>nov</td>\n",
       "      <td>fri</td>\n",
       "      <td>...</td>\n",
       "      <td>2</td>\n",
       "      <td>999</td>\n",
       "      <td>0</td>\n",
       "      <td>nonexistent</td>\n",
       "      <td>-1.1</td>\n",
       "      <td>94.767</td>\n",
       "      <td>-50.8</td>\n",
       "      <td>1.028</td>\n",
       "      <td>4963.6</td>\n",
       "      <td>no</td>\n",
       "    </tr>\n",
       "    <tr>\n",
       "      <th>41186</th>\n",
       "      <td>44</td>\n",
       "      <td>technician</td>\n",
       "      <td>married</td>\n",
       "      <td>professional.course</td>\n",
       "      <td>no</td>\n",
       "      <td>no</td>\n",
       "      <td>no</td>\n",
       "      <td>cellular</td>\n",
       "      <td>nov</td>\n",
       "      <td>fri</td>\n",
       "      <td>...</td>\n",
       "      <td>1</td>\n",
       "      <td>999</td>\n",
       "      <td>0</td>\n",
       "      <td>nonexistent</td>\n",
       "      <td>-1.1</td>\n",
       "      <td>94.767</td>\n",
       "      <td>-50.8</td>\n",
       "      <td>1.028</td>\n",
       "      <td>4963.6</td>\n",
       "      <td>yes</td>\n",
       "    </tr>\n",
       "    <tr>\n",
       "      <th>41187</th>\n",
       "      <td>74</td>\n",
       "      <td>retired</td>\n",
       "      <td>married</td>\n",
       "      <td>professional.course</td>\n",
       "      <td>no</td>\n",
       "      <td>yes</td>\n",
       "      <td>no</td>\n",
       "      <td>cellular</td>\n",
       "      <td>nov</td>\n",
       "      <td>fri</td>\n",
       "      <td>...</td>\n",
       "      <td>3</td>\n",
       "      <td>999</td>\n",
       "      <td>1</td>\n",
       "      <td>failure</td>\n",
       "      <td>-1.1</td>\n",
       "      <td>94.767</td>\n",
       "      <td>-50.8</td>\n",
       "      <td>1.028</td>\n",
       "      <td>4963.6</td>\n",
       "      <td>no</td>\n",
       "    </tr>\n",
       "  </tbody>\n",
       "</table>\n",
       "<p>41188 rows × 21 columns</p>\n",
       "</div>"
      ],
      "text/plain": [
       "       age          job  marital            education  default housing loan  \\\n",
       "0       56    housemaid  married             basic.4y       no      no   no   \n",
       "1       57     services  married          high.school  unknown      no   no   \n",
       "2       37     services  married          high.school       no     yes   no   \n",
       "3       40       admin.  married             basic.6y       no      no   no   \n",
       "4       56     services  married          high.school       no      no  yes   \n",
       "...    ...          ...      ...                  ...      ...     ...  ...   \n",
       "41183   73      retired  married  professional.course       no     yes   no   \n",
       "41184   46  blue-collar  married  professional.course       no      no   no   \n",
       "41185   56      retired  married    university.degree       no     yes   no   \n",
       "41186   44   technician  married  professional.course       no      no   no   \n",
       "41187   74      retired  married  professional.course       no     yes   no   \n",
       "\n",
       "         contact month day_of_week  ...  campaign  pdays  previous  \\\n",
       "0      telephone   may         mon  ...         1    999         0   \n",
       "1      telephone   may         mon  ...         1    999         0   \n",
       "2      telephone   may         mon  ...         1    999         0   \n",
       "3      telephone   may         mon  ...         1    999         0   \n",
       "4      telephone   may         mon  ...         1    999         0   \n",
       "...          ...   ...         ...  ...       ...    ...       ...   \n",
       "41183   cellular   nov         fri  ...         1    999         0   \n",
       "41184   cellular   nov         fri  ...         1    999         0   \n",
       "41185   cellular   nov         fri  ...         2    999         0   \n",
       "41186   cellular   nov         fri  ...         1    999         0   \n",
       "41187   cellular   nov         fri  ...         3    999         1   \n",
       "\n",
       "          poutcome emp.var.rate  cons.price.idx  cons.conf.idx  euribor3m  \\\n",
       "0      nonexistent          1.1          93.994          -36.4      4.857   \n",
       "1      nonexistent          1.1          93.994          -36.4      4.857   \n",
       "2      nonexistent          1.1          93.994          -36.4      4.857   \n",
       "3      nonexistent          1.1          93.994          -36.4      4.857   \n",
       "4      nonexistent          1.1          93.994          -36.4      4.857   \n",
       "...            ...          ...             ...            ...        ...   \n",
       "41183  nonexistent         -1.1          94.767          -50.8      1.028   \n",
       "41184  nonexistent         -1.1          94.767          -50.8      1.028   \n",
       "41185  nonexistent         -1.1          94.767          -50.8      1.028   \n",
       "41186  nonexistent         -1.1          94.767          -50.8      1.028   \n",
       "41187      failure         -1.1          94.767          -50.8      1.028   \n",
       "\n",
       "       nr.employed    y  \n",
       "0           5191.0   no  \n",
       "1           5191.0   no  \n",
       "2           5191.0   no  \n",
       "3           5191.0   no  \n",
       "4           5191.0   no  \n",
       "...            ...  ...  \n",
       "41183       4963.6  yes  \n",
       "41184       4963.6   no  \n",
       "41185       4963.6   no  \n",
       "41186       4963.6  yes  \n",
       "41187       4963.6   no  \n",
       "\n",
       "[41188 rows x 21 columns]"
      ]
     },
     "execution_count": 3,
     "metadata": {},
     "output_type": "execute_result"
    }
   ],
   "source": [
    "df"
   ]
  },
  {
   "cell_type": "code",
   "execution_count": 4,
   "id": "689d8a58",
   "metadata": {
    "execution": {
     "iopub.execute_input": "2024-07-13T09:27:05.794644Z",
     "iopub.status.busy": "2024-07-13T09:27:05.794254Z",
     "iopub.status.idle": "2024-07-13T09:27:05.826200Z",
     "shell.execute_reply": "2024-07-13T09:27:05.825110Z"
    },
    "papermill": {
     "duration": 0.045528,
     "end_time": "2024-07-13T09:27:05.828427",
     "exception": false,
     "start_time": "2024-07-13T09:27:05.782899",
     "status": "completed"
    },
    "tags": []
   },
   "outputs": [
    {
     "data": {
      "text/plain": [
       "age               0\n",
       "job               0\n",
       "marital           0\n",
       "education         0\n",
       "default           0\n",
       "housing           0\n",
       "loan              0\n",
       "contact           0\n",
       "month             0\n",
       "day_of_week       0\n",
       "duration          0\n",
       "campaign          0\n",
       "pdays             0\n",
       "previous          0\n",
       "poutcome          0\n",
       "emp.var.rate      0\n",
       "cons.price.idx    0\n",
       "cons.conf.idx     0\n",
       "euribor3m         0\n",
       "nr.employed       0\n",
       "y                 0\n",
       "dtype: int64"
      ]
     },
     "execution_count": 4,
     "metadata": {},
     "output_type": "execute_result"
    }
   ],
   "source": [
    "df.isnull().sum()"
   ]
  },
  {
   "cell_type": "code",
   "execution_count": 5,
   "id": "5527a31d",
   "metadata": {
    "execution": {
     "iopub.execute_input": "2024-07-13T09:27:05.849409Z",
     "iopub.status.busy": "2024-07-13T09:27:05.848288Z",
     "iopub.status.idle": "2024-07-13T09:27:05.898521Z",
     "shell.execute_reply": "2024-07-13T09:27:05.897504Z"
    },
    "papermill": {
     "duration": 0.063093,
     "end_time": "2024-07-13T09:27:05.900772",
     "exception": false,
     "start_time": "2024-07-13T09:27:05.837679",
     "status": "completed"
    },
    "tags": []
   },
   "outputs": [
    {
     "data": {
      "text/html": [
       "<div>\n",
       "<style scoped>\n",
       "    .dataframe tbody tr th:only-of-type {\n",
       "        vertical-align: middle;\n",
       "    }\n",
       "\n",
       "    .dataframe tbody tr th {\n",
       "        vertical-align: top;\n",
       "    }\n",
       "\n",
       "    .dataframe thead th {\n",
       "        text-align: right;\n",
       "    }\n",
       "</style>\n",
       "<table border=\"1\" class=\"dataframe\">\n",
       "  <thead>\n",
       "    <tr style=\"text-align: right;\">\n",
       "      <th></th>\n",
       "      <th>age</th>\n",
       "      <th>duration</th>\n",
       "      <th>campaign</th>\n",
       "      <th>pdays</th>\n",
       "      <th>previous</th>\n",
       "      <th>emp.var.rate</th>\n",
       "      <th>cons.price.idx</th>\n",
       "      <th>cons.conf.idx</th>\n",
       "      <th>euribor3m</th>\n",
       "      <th>nr.employed</th>\n",
       "    </tr>\n",
       "  </thead>\n",
       "  <tbody>\n",
       "    <tr>\n",
       "      <th>count</th>\n",
       "      <td>41188.00000</td>\n",
       "      <td>41188.000000</td>\n",
       "      <td>41188.000000</td>\n",
       "      <td>41188.000000</td>\n",
       "      <td>41188.000000</td>\n",
       "      <td>41188.000000</td>\n",
       "      <td>41188.000000</td>\n",
       "      <td>41188.000000</td>\n",
       "      <td>41188.000000</td>\n",
       "      <td>41188.000000</td>\n",
       "    </tr>\n",
       "    <tr>\n",
       "      <th>mean</th>\n",
       "      <td>40.02406</td>\n",
       "      <td>258.285010</td>\n",
       "      <td>2.567593</td>\n",
       "      <td>962.475454</td>\n",
       "      <td>0.172963</td>\n",
       "      <td>0.081886</td>\n",
       "      <td>93.575664</td>\n",
       "      <td>-40.502600</td>\n",
       "      <td>3.621291</td>\n",
       "      <td>5167.035911</td>\n",
       "    </tr>\n",
       "    <tr>\n",
       "      <th>std</th>\n",
       "      <td>10.42125</td>\n",
       "      <td>259.279249</td>\n",
       "      <td>2.770014</td>\n",
       "      <td>186.910907</td>\n",
       "      <td>0.494901</td>\n",
       "      <td>1.570960</td>\n",
       "      <td>0.578840</td>\n",
       "      <td>4.628198</td>\n",
       "      <td>1.734447</td>\n",
       "      <td>72.251528</td>\n",
       "    </tr>\n",
       "    <tr>\n",
       "      <th>min</th>\n",
       "      <td>17.00000</td>\n",
       "      <td>0.000000</td>\n",
       "      <td>1.000000</td>\n",
       "      <td>0.000000</td>\n",
       "      <td>0.000000</td>\n",
       "      <td>-3.400000</td>\n",
       "      <td>92.201000</td>\n",
       "      <td>-50.800000</td>\n",
       "      <td>0.634000</td>\n",
       "      <td>4963.600000</td>\n",
       "    </tr>\n",
       "    <tr>\n",
       "      <th>25%</th>\n",
       "      <td>32.00000</td>\n",
       "      <td>102.000000</td>\n",
       "      <td>1.000000</td>\n",
       "      <td>999.000000</td>\n",
       "      <td>0.000000</td>\n",
       "      <td>-1.800000</td>\n",
       "      <td>93.075000</td>\n",
       "      <td>-42.700000</td>\n",
       "      <td>1.344000</td>\n",
       "      <td>5099.100000</td>\n",
       "    </tr>\n",
       "    <tr>\n",
       "      <th>50%</th>\n",
       "      <td>38.00000</td>\n",
       "      <td>180.000000</td>\n",
       "      <td>2.000000</td>\n",
       "      <td>999.000000</td>\n",
       "      <td>0.000000</td>\n",
       "      <td>1.100000</td>\n",
       "      <td>93.749000</td>\n",
       "      <td>-41.800000</td>\n",
       "      <td>4.857000</td>\n",
       "      <td>5191.000000</td>\n",
       "    </tr>\n",
       "    <tr>\n",
       "      <th>75%</th>\n",
       "      <td>47.00000</td>\n",
       "      <td>319.000000</td>\n",
       "      <td>3.000000</td>\n",
       "      <td>999.000000</td>\n",
       "      <td>0.000000</td>\n",
       "      <td>1.400000</td>\n",
       "      <td>93.994000</td>\n",
       "      <td>-36.400000</td>\n",
       "      <td>4.961000</td>\n",
       "      <td>5228.100000</td>\n",
       "    </tr>\n",
       "    <tr>\n",
       "      <th>max</th>\n",
       "      <td>98.00000</td>\n",
       "      <td>4918.000000</td>\n",
       "      <td>56.000000</td>\n",
       "      <td>999.000000</td>\n",
       "      <td>7.000000</td>\n",
       "      <td>1.400000</td>\n",
       "      <td>94.767000</td>\n",
       "      <td>-26.900000</td>\n",
       "      <td>5.045000</td>\n",
       "      <td>5228.100000</td>\n",
       "    </tr>\n",
       "  </tbody>\n",
       "</table>\n",
       "</div>"
      ],
      "text/plain": [
       "               age      duration      campaign         pdays      previous  \\\n",
       "count  41188.00000  41188.000000  41188.000000  41188.000000  41188.000000   \n",
       "mean      40.02406    258.285010      2.567593    962.475454      0.172963   \n",
       "std       10.42125    259.279249      2.770014    186.910907      0.494901   \n",
       "min       17.00000      0.000000      1.000000      0.000000      0.000000   \n",
       "25%       32.00000    102.000000      1.000000    999.000000      0.000000   \n",
       "50%       38.00000    180.000000      2.000000    999.000000      0.000000   \n",
       "75%       47.00000    319.000000      3.000000    999.000000      0.000000   \n",
       "max       98.00000   4918.000000     56.000000    999.000000      7.000000   \n",
       "\n",
       "       emp.var.rate  cons.price.idx  cons.conf.idx     euribor3m   nr.employed  \n",
       "count  41188.000000    41188.000000   41188.000000  41188.000000  41188.000000  \n",
       "mean       0.081886       93.575664     -40.502600      3.621291   5167.035911  \n",
       "std        1.570960        0.578840       4.628198      1.734447     72.251528  \n",
       "min       -3.400000       92.201000     -50.800000      0.634000   4963.600000  \n",
       "25%       -1.800000       93.075000     -42.700000      1.344000   5099.100000  \n",
       "50%        1.100000       93.749000     -41.800000      4.857000   5191.000000  \n",
       "75%        1.400000       93.994000     -36.400000      4.961000   5228.100000  \n",
       "max        1.400000       94.767000     -26.900000      5.045000   5228.100000  "
      ]
     },
     "execution_count": 5,
     "metadata": {},
     "output_type": "execute_result"
    }
   ],
   "source": [
    "df.describe()"
   ]
  },
  {
   "cell_type": "code",
   "execution_count": 6,
   "id": "490bd780",
   "metadata": {
    "execution": {
     "iopub.execute_input": "2024-07-13T09:27:05.922114Z",
     "iopub.status.busy": "2024-07-13T09:27:05.921191Z",
     "iopub.status.idle": "2024-07-13T09:27:05.935455Z",
     "shell.execute_reply": "2024-07-13T09:27:05.934359Z"
    },
    "papermill": {
     "duration": 0.027497,
     "end_time": "2024-07-13T09:27:05.937887",
     "exception": false,
     "start_time": "2024-07-13T09:27:05.910390",
     "status": "completed"
    },
    "tags": []
   },
   "outputs": [
    {
     "data": {
      "text/plain": [
       "y\n",
       "no     36548\n",
       "yes     4640\n",
       "Name: count, dtype: int64"
      ]
     },
     "execution_count": 6,
     "metadata": {},
     "output_type": "execute_result"
    }
   ],
   "source": [
    "df.y.value_counts()"
   ]
  },
  {
   "cell_type": "code",
   "execution_count": 7,
   "id": "9461dbb2",
   "metadata": {
    "execution": {
     "iopub.execute_input": "2024-07-13T09:27:05.958775Z",
     "iopub.status.busy": "2024-07-13T09:27:05.958379Z",
     "iopub.status.idle": "2024-07-13T09:27:05.981174Z",
     "shell.execute_reply": "2024-07-13T09:27:05.979896Z"
    },
    "papermill": {
     "duration": 0.036581,
     "end_time": "2024-07-13T09:27:05.984147",
     "exception": false,
     "start_time": "2024-07-13T09:27:05.947566",
     "status": "completed"
    },
    "tags": []
   },
   "outputs": [
    {
     "data": {
      "text/plain": [
       "count    36548.000000\n",
       "mean        39.911185\n",
       "std          9.898132\n",
       "min         17.000000\n",
       "25%         32.000000\n",
       "50%         38.000000\n",
       "75%         47.000000\n",
       "max         95.000000\n",
       "Name: age, dtype: float64"
      ]
     },
     "execution_count": 7,
     "metadata": {},
     "output_type": "execute_result"
    }
   ],
   "source": [
    "no=df[df['y']=='no']\n",
    "no.age.describe()"
   ]
  },
  {
   "cell_type": "code",
   "execution_count": 8,
   "id": "40fa901a",
   "metadata": {
    "execution": {
     "iopub.execute_input": "2024-07-13T09:27:06.005406Z",
     "iopub.status.busy": "2024-07-13T09:27:06.004954Z",
     "iopub.status.idle": "2024-07-13T09:27:06.021584Z",
     "shell.execute_reply": "2024-07-13T09:27:06.020477Z"
    },
    "papermill": {
     "duration": 0.030028,
     "end_time": "2024-07-13T09:27:06.023936",
     "exception": false,
     "start_time": "2024-07-13T09:27:05.993908",
     "status": "completed"
    },
    "tags": []
   },
   "outputs": [
    {
     "data": {
      "text/plain": [
       "count    4640.000000\n",
       "mean       40.913147\n",
       "std        13.837476\n",
       "min        17.000000\n",
       "25%        31.000000\n",
       "50%        37.000000\n",
       "75%        50.000000\n",
       "max        98.000000\n",
       "Name: age, dtype: float64"
      ]
     },
     "execution_count": 8,
     "metadata": {},
     "output_type": "execute_result"
    }
   ],
   "source": [
    "yes=df[df['y']=='yes']\n",
    "yes.age.describe()"
   ]
  },
  {
   "cell_type": "code",
   "execution_count": 9,
   "id": "fe1c3a77",
   "metadata": {
    "execution": {
     "iopub.execute_input": "2024-07-13T09:27:06.045576Z",
     "iopub.status.busy": "2024-07-13T09:27:06.044712Z",
     "iopub.status.idle": "2024-07-13T09:27:06.056853Z",
     "shell.execute_reply": "2024-07-13T09:27:06.056001Z"
    },
    "papermill": {
     "duration": 0.025144,
     "end_time": "2024-07-13T09:27:06.058979",
     "exception": false,
     "start_time": "2024-07-13T09:27:06.033835",
     "status": "completed"
    },
    "tags": []
   },
   "outputs": [],
   "source": [
    "no_sample=no.sample(n=4640,random_state=1)"
   ]
  },
  {
   "cell_type": "code",
   "execution_count": 10,
   "id": "f67f156a",
   "metadata": {
    "execution": {
     "iopub.execute_input": "2024-07-13T09:27:06.080932Z",
     "iopub.status.busy": "2024-07-13T09:27:06.079978Z",
     "iopub.status.idle": "2024-07-13T09:27:06.116623Z",
     "shell.execute_reply": "2024-07-13T09:27:06.115596Z"
    },
    "papermill": {
     "duration": 0.050074,
     "end_time": "2024-07-13T09:27:06.118962",
     "exception": false,
     "start_time": "2024-07-13T09:27:06.068888",
     "status": "completed"
    },
    "tags": []
   },
   "outputs": [
    {
     "data": {
      "text/html": [
       "<div>\n",
       "<style scoped>\n",
       "    .dataframe tbody tr th:only-of-type {\n",
       "        vertical-align: middle;\n",
       "    }\n",
       "\n",
       "    .dataframe tbody tr th {\n",
       "        vertical-align: top;\n",
       "    }\n",
       "\n",
       "    .dataframe thead th {\n",
       "        text-align: right;\n",
       "    }\n",
       "</style>\n",
       "<table border=\"1\" class=\"dataframe\">\n",
       "  <thead>\n",
       "    <tr style=\"text-align: right;\">\n",
       "      <th></th>\n",
       "      <th>age</th>\n",
       "      <th>job</th>\n",
       "      <th>marital</th>\n",
       "      <th>education</th>\n",
       "      <th>default</th>\n",
       "      <th>housing</th>\n",
       "      <th>loan</th>\n",
       "      <th>contact</th>\n",
       "      <th>month</th>\n",
       "      <th>day_of_week</th>\n",
       "      <th>...</th>\n",
       "      <th>campaign</th>\n",
       "      <th>pdays</th>\n",
       "      <th>previous</th>\n",
       "      <th>poutcome</th>\n",
       "      <th>emp.var.rate</th>\n",
       "      <th>cons.price.idx</th>\n",
       "      <th>cons.conf.idx</th>\n",
       "      <th>euribor3m</th>\n",
       "      <th>nr.employed</th>\n",
       "      <th>y</th>\n",
       "    </tr>\n",
       "  </thead>\n",
       "  <tbody>\n",
       "    <tr>\n",
       "      <th>20507</th>\n",
       "      <td>35</td>\n",
       "      <td>self-employed</td>\n",
       "      <td>married</td>\n",
       "      <td>university.degree</td>\n",
       "      <td>no</td>\n",
       "      <td>no</td>\n",
       "      <td>no</td>\n",
       "      <td>cellular</td>\n",
       "      <td>aug</td>\n",
       "      <td>tue</td>\n",
       "      <td>...</td>\n",
       "      <td>2</td>\n",
       "      <td>999</td>\n",
       "      <td>0</td>\n",
       "      <td>nonexistent</td>\n",
       "      <td>1.4</td>\n",
       "      <td>93.444</td>\n",
       "      <td>-36.1</td>\n",
       "      <td>4.966</td>\n",
       "      <td>5228.1</td>\n",
       "      <td>no</td>\n",
       "    </tr>\n",
       "    <tr>\n",
       "      <th>33693</th>\n",
       "      <td>35</td>\n",
       "      <td>self-employed</td>\n",
       "      <td>single</td>\n",
       "      <td>high.school</td>\n",
       "      <td>no</td>\n",
       "      <td>yes</td>\n",
       "      <td>no</td>\n",
       "      <td>cellular</td>\n",
       "      <td>may</td>\n",
       "      <td>wed</td>\n",
       "      <td>...</td>\n",
       "      <td>1</td>\n",
       "      <td>999</td>\n",
       "      <td>1</td>\n",
       "      <td>failure</td>\n",
       "      <td>-1.8</td>\n",
       "      <td>92.893</td>\n",
       "      <td>-46.2</td>\n",
       "      <td>1.281</td>\n",
       "      <td>5099.1</td>\n",
       "      <td>no</td>\n",
       "    </tr>\n",
       "    <tr>\n",
       "      <th>641</th>\n",
       "      <td>29</td>\n",
       "      <td>admin.</td>\n",
       "      <td>married</td>\n",
       "      <td>high.school</td>\n",
       "      <td>no</td>\n",
       "      <td>yes</td>\n",
       "      <td>no</td>\n",
       "      <td>telephone</td>\n",
       "      <td>may</td>\n",
       "      <td>tue</td>\n",
       "      <td>...</td>\n",
       "      <td>3</td>\n",
       "      <td>999</td>\n",
       "      <td>0</td>\n",
       "      <td>nonexistent</td>\n",
       "      <td>1.1</td>\n",
       "      <td>93.994</td>\n",
       "      <td>-36.4</td>\n",
       "      <td>4.857</td>\n",
       "      <td>5191.0</td>\n",
       "      <td>no</td>\n",
       "    </tr>\n",
       "    <tr>\n",
       "      <th>10478</th>\n",
       "      <td>37</td>\n",
       "      <td>admin.</td>\n",
       "      <td>married</td>\n",
       "      <td>high.school</td>\n",
       "      <td>no</td>\n",
       "      <td>no</td>\n",
       "      <td>no</td>\n",
       "      <td>telephone</td>\n",
       "      <td>jun</td>\n",
       "      <td>tue</td>\n",
       "      <td>...</td>\n",
       "      <td>16</td>\n",
       "      <td>999</td>\n",
       "      <td>0</td>\n",
       "      <td>nonexistent</td>\n",
       "      <td>1.4</td>\n",
       "      <td>94.465</td>\n",
       "      <td>-41.8</td>\n",
       "      <td>4.961</td>\n",
       "      <td>5228.1</td>\n",
       "      <td>no</td>\n",
       "    </tr>\n",
       "    <tr>\n",
       "      <th>1582</th>\n",
       "      <td>44</td>\n",
       "      <td>technician</td>\n",
       "      <td>married</td>\n",
       "      <td>professional.course</td>\n",
       "      <td>unknown</td>\n",
       "      <td>no</td>\n",
       "      <td>yes</td>\n",
       "      <td>telephone</td>\n",
       "      <td>may</td>\n",
       "      <td>fri</td>\n",
       "      <td>...</td>\n",
       "      <td>4</td>\n",
       "      <td>999</td>\n",
       "      <td>0</td>\n",
       "      <td>nonexistent</td>\n",
       "      <td>1.1</td>\n",
       "      <td>93.994</td>\n",
       "      <td>-36.4</td>\n",
       "      <td>4.855</td>\n",
       "      <td>5191.0</td>\n",
       "      <td>no</td>\n",
       "    </tr>\n",
       "    <tr>\n",
       "      <th>...</th>\n",
       "      <td>...</td>\n",
       "      <td>...</td>\n",
       "      <td>...</td>\n",
       "      <td>...</td>\n",
       "      <td>...</td>\n",
       "      <td>...</td>\n",
       "      <td>...</td>\n",
       "      <td>...</td>\n",
       "      <td>...</td>\n",
       "      <td>...</td>\n",
       "      <td>...</td>\n",
       "      <td>...</td>\n",
       "      <td>...</td>\n",
       "      <td>...</td>\n",
       "      <td>...</td>\n",
       "      <td>...</td>\n",
       "      <td>...</td>\n",
       "      <td>...</td>\n",
       "      <td>...</td>\n",
       "      <td>...</td>\n",
       "      <td>...</td>\n",
       "    </tr>\n",
       "    <tr>\n",
       "      <th>41174</th>\n",
       "      <td>62</td>\n",
       "      <td>retired</td>\n",
       "      <td>married</td>\n",
       "      <td>university.degree</td>\n",
       "      <td>no</td>\n",
       "      <td>yes</td>\n",
       "      <td>no</td>\n",
       "      <td>cellular</td>\n",
       "      <td>nov</td>\n",
       "      <td>thu</td>\n",
       "      <td>...</td>\n",
       "      <td>1</td>\n",
       "      <td>1</td>\n",
       "      <td>6</td>\n",
       "      <td>success</td>\n",
       "      <td>-1.1</td>\n",
       "      <td>94.767</td>\n",
       "      <td>-50.8</td>\n",
       "      <td>1.031</td>\n",
       "      <td>4963.6</td>\n",
       "      <td>yes</td>\n",
       "    </tr>\n",
       "    <tr>\n",
       "      <th>41178</th>\n",
       "      <td>62</td>\n",
       "      <td>retired</td>\n",
       "      <td>married</td>\n",
       "      <td>university.degree</td>\n",
       "      <td>no</td>\n",
       "      <td>no</td>\n",
       "      <td>no</td>\n",
       "      <td>cellular</td>\n",
       "      <td>nov</td>\n",
       "      <td>thu</td>\n",
       "      <td>...</td>\n",
       "      <td>2</td>\n",
       "      <td>6</td>\n",
       "      <td>3</td>\n",
       "      <td>success</td>\n",
       "      <td>-1.1</td>\n",
       "      <td>94.767</td>\n",
       "      <td>-50.8</td>\n",
       "      <td>1.031</td>\n",
       "      <td>4963.6</td>\n",
       "      <td>yes</td>\n",
       "    </tr>\n",
       "    <tr>\n",
       "      <th>41181</th>\n",
       "      <td>37</td>\n",
       "      <td>admin.</td>\n",
       "      <td>married</td>\n",
       "      <td>university.degree</td>\n",
       "      <td>no</td>\n",
       "      <td>yes</td>\n",
       "      <td>no</td>\n",
       "      <td>cellular</td>\n",
       "      <td>nov</td>\n",
       "      <td>fri</td>\n",
       "      <td>...</td>\n",
       "      <td>1</td>\n",
       "      <td>999</td>\n",
       "      <td>0</td>\n",
       "      <td>nonexistent</td>\n",
       "      <td>-1.1</td>\n",
       "      <td>94.767</td>\n",
       "      <td>-50.8</td>\n",
       "      <td>1.028</td>\n",
       "      <td>4963.6</td>\n",
       "      <td>yes</td>\n",
       "    </tr>\n",
       "    <tr>\n",
       "      <th>41183</th>\n",
       "      <td>73</td>\n",
       "      <td>retired</td>\n",
       "      <td>married</td>\n",
       "      <td>professional.course</td>\n",
       "      <td>no</td>\n",
       "      <td>yes</td>\n",
       "      <td>no</td>\n",
       "      <td>cellular</td>\n",
       "      <td>nov</td>\n",
       "      <td>fri</td>\n",
       "      <td>...</td>\n",
       "      <td>1</td>\n",
       "      <td>999</td>\n",
       "      <td>0</td>\n",
       "      <td>nonexistent</td>\n",
       "      <td>-1.1</td>\n",
       "      <td>94.767</td>\n",
       "      <td>-50.8</td>\n",
       "      <td>1.028</td>\n",
       "      <td>4963.6</td>\n",
       "      <td>yes</td>\n",
       "    </tr>\n",
       "    <tr>\n",
       "      <th>41186</th>\n",
       "      <td>44</td>\n",
       "      <td>technician</td>\n",
       "      <td>married</td>\n",
       "      <td>professional.course</td>\n",
       "      <td>no</td>\n",
       "      <td>no</td>\n",
       "      <td>no</td>\n",
       "      <td>cellular</td>\n",
       "      <td>nov</td>\n",
       "      <td>fri</td>\n",
       "      <td>...</td>\n",
       "      <td>1</td>\n",
       "      <td>999</td>\n",
       "      <td>0</td>\n",
       "      <td>nonexistent</td>\n",
       "      <td>-1.1</td>\n",
       "      <td>94.767</td>\n",
       "      <td>-50.8</td>\n",
       "      <td>1.028</td>\n",
       "      <td>4963.6</td>\n",
       "      <td>yes</td>\n",
       "    </tr>\n",
       "  </tbody>\n",
       "</table>\n",
       "<p>9280 rows × 21 columns</p>\n",
       "</div>"
      ],
      "text/plain": [
       "       age            job  marital            education  default housing loan  \\\n",
       "20507   35  self-employed  married    university.degree       no      no   no   \n",
       "33693   35  self-employed   single          high.school       no     yes   no   \n",
       "641     29         admin.  married          high.school       no     yes   no   \n",
       "10478   37         admin.  married          high.school       no      no   no   \n",
       "1582    44     technician  married  professional.course  unknown      no  yes   \n",
       "...    ...            ...      ...                  ...      ...     ...  ...   \n",
       "41174   62        retired  married    university.degree       no     yes   no   \n",
       "41178   62        retired  married    university.degree       no      no   no   \n",
       "41181   37         admin.  married    university.degree       no     yes   no   \n",
       "41183   73        retired  married  professional.course       no     yes   no   \n",
       "41186   44     technician  married  professional.course       no      no   no   \n",
       "\n",
       "         contact month day_of_week  ...  campaign  pdays  previous  \\\n",
       "20507   cellular   aug         tue  ...         2    999         0   \n",
       "33693   cellular   may         wed  ...         1    999         1   \n",
       "641    telephone   may         tue  ...         3    999         0   \n",
       "10478  telephone   jun         tue  ...        16    999         0   \n",
       "1582   telephone   may         fri  ...         4    999         0   \n",
       "...          ...   ...         ...  ...       ...    ...       ...   \n",
       "41174   cellular   nov         thu  ...         1      1         6   \n",
       "41178   cellular   nov         thu  ...         2      6         3   \n",
       "41181   cellular   nov         fri  ...         1    999         0   \n",
       "41183   cellular   nov         fri  ...         1    999         0   \n",
       "41186   cellular   nov         fri  ...         1    999         0   \n",
       "\n",
       "          poutcome emp.var.rate  cons.price.idx  cons.conf.idx  euribor3m  \\\n",
       "20507  nonexistent          1.4          93.444          -36.1      4.966   \n",
       "33693      failure         -1.8          92.893          -46.2      1.281   \n",
       "641    nonexistent          1.1          93.994          -36.4      4.857   \n",
       "10478  nonexistent          1.4          94.465          -41.8      4.961   \n",
       "1582   nonexistent          1.1          93.994          -36.4      4.855   \n",
       "...            ...          ...             ...            ...        ...   \n",
       "41174      success         -1.1          94.767          -50.8      1.031   \n",
       "41178      success         -1.1          94.767          -50.8      1.031   \n",
       "41181  nonexistent         -1.1          94.767          -50.8      1.028   \n",
       "41183  nonexistent         -1.1          94.767          -50.8      1.028   \n",
       "41186  nonexistent         -1.1          94.767          -50.8      1.028   \n",
       "\n",
       "       nr.employed    y  \n",
       "20507       5228.1   no  \n",
       "33693       5099.1   no  \n",
       "641         5191.0   no  \n",
       "10478       5228.1   no  \n",
       "1582        5191.0   no  \n",
       "...            ...  ...  \n",
       "41174       4963.6  yes  \n",
       "41178       4963.6  yes  \n",
       "41181       4963.6  yes  \n",
       "41183       4963.6  yes  \n",
       "41186       4963.6  yes  \n",
       "\n",
       "[9280 rows x 21 columns]"
      ]
     },
     "execution_count": 10,
     "metadata": {},
     "output_type": "execute_result"
    }
   ],
   "source": [
    "new_data = pd.concat([no_sample, yes])\n",
    "new_data"
   ]
  },
  {
   "cell_type": "code",
   "execution_count": 11,
   "id": "1f7877b9",
   "metadata": {
    "execution": {
     "iopub.execute_input": "2024-07-13T09:27:06.141317Z",
     "iopub.status.busy": "2024-07-13T09:27:06.140946Z",
     "iopub.status.idle": "2024-07-13T09:27:07.340502Z",
     "shell.execute_reply": "2024-07-13T09:27:07.339544Z"
    },
    "papermill": {
     "duration": 1.213527,
     "end_time": "2024-07-13T09:27:07.343052",
     "exception": false,
     "start_time": "2024-07-13T09:27:06.129525",
     "status": "completed"
    },
    "tags": []
   },
   "outputs": [],
   "source": [
    "import seaborn as sns\n",
    "import matplotlib.pyplot as plt\n",
    "\n"
   ]
  },
  {
   "cell_type": "markdown",
   "id": "2a5150e5",
   "metadata": {
    "papermill": {
     "duration": 0.010092,
     "end_time": "2024-07-13T09:27:07.363794",
     "exception": false,
     "start_time": "2024-07-13T09:27:07.353702",
     "status": "completed"
    },
    "tags": []
   },
   "source": [
    "#  preparing categorical data numerical input."
   ]
  },
  {
   "cell_type": "code",
   "execution_count": 12,
   "id": "432114e9",
   "metadata": {
    "execution": {
     "iopub.execute_input": "2024-07-13T09:27:07.386275Z",
     "iopub.status.busy": "2024-07-13T09:27:07.385869Z",
     "iopub.status.idle": "2024-07-13T09:27:07.670442Z",
     "shell.execute_reply": "2024-07-13T09:27:07.669282Z"
    },
    "papermill": {
     "duration": 0.298588,
     "end_time": "2024-07-13T09:27:07.672855",
     "exception": false,
     "start_time": "2024-07-13T09:27:07.374267",
     "status": "completed"
    },
    "tags": []
   },
   "outputs": [
    {
     "data": {
      "text/html": [
       "<div>\n",
       "<style scoped>\n",
       "    .dataframe tbody tr th:only-of-type {\n",
       "        vertical-align: middle;\n",
       "    }\n",
       "\n",
       "    .dataframe tbody tr th {\n",
       "        vertical-align: top;\n",
       "    }\n",
       "\n",
       "    .dataframe thead th {\n",
       "        text-align: right;\n",
       "    }\n",
       "</style>\n",
       "<table border=\"1\" class=\"dataframe\">\n",
       "  <thead>\n",
       "    <tr style=\"text-align: right;\">\n",
       "      <th></th>\n",
       "      <th>age</th>\n",
       "      <th>job</th>\n",
       "      <th>marital</th>\n",
       "      <th>education</th>\n",
       "      <th>default</th>\n",
       "      <th>housing</th>\n",
       "      <th>loan</th>\n",
       "      <th>contact</th>\n",
       "      <th>month</th>\n",
       "      <th>day_of_week</th>\n",
       "      <th>...</th>\n",
       "      <th>campaign</th>\n",
       "      <th>pdays</th>\n",
       "      <th>previous</th>\n",
       "      <th>poutcome</th>\n",
       "      <th>emp.var.rate</th>\n",
       "      <th>cons.price.idx</th>\n",
       "      <th>cons.conf.idx</th>\n",
       "      <th>euribor3m</th>\n",
       "      <th>nr.employed</th>\n",
       "      <th>y</th>\n",
       "    </tr>\n",
       "  </thead>\n",
       "  <tbody>\n",
       "    <tr>\n",
       "      <th>20507</th>\n",
       "      <td>18</td>\n",
       "      <td>6</td>\n",
       "      <td>1</td>\n",
       "      <td>6</td>\n",
       "      <td>0</td>\n",
       "      <td>0</td>\n",
       "      <td>0</td>\n",
       "      <td>0</td>\n",
       "      <td>1</td>\n",
       "      <td>3</td>\n",
       "      <td>...</td>\n",
       "      <td>1</td>\n",
       "      <td>26</td>\n",
       "      <td>0</td>\n",
       "      <td>1</td>\n",
       "      <td>9</td>\n",
       "      <td>13</td>\n",
       "      <td>17</td>\n",
       "      <td>289</td>\n",
       "      <td>10</td>\n",
       "      <td>0</td>\n",
       "    </tr>\n",
       "    <tr>\n",
       "      <th>33693</th>\n",
       "      <td>18</td>\n",
       "      <td>6</td>\n",
       "      <td>2</td>\n",
       "      <td>3</td>\n",
       "      <td>0</td>\n",
       "      <td>2</td>\n",
       "      <td>0</td>\n",
       "      <td>0</td>\n",
       "      <td>6</td>\n",
       "      <td>4</td>\n",
       "      <td>...</td>\n",
       "      <td>0</td>\n",
       "      <td>26</td>\n",
       "      <td>1</td>\n",
       "      <td>0</td>\n",
       "      <td>3</td>\n",
       "      <td>8</td>\n",
       "      <td>4</td>\n",
       "      <td>197</td>\n",
       "      <td>6</td>\n",
       "      <td>0</td>\n",
       "    </tr>\n",
       "    <tr>\n",
       "      <th>641</th>\n",
       "      <td>12</td>\n",
       "      <td>0</td>\n",
       "      <td>1</td>\n",
       "      <td>3</td>\n",
       "      <td>0</td>\n",
       "      <td>2</td>\n",
       "      <td>0</td>\n",
       "      <td>1</td>\n",
       "      <td>6</td>\n",
       "      <td>3</td>\n",
       "      <td>...</td>\n",
       "      <td>2</td>\n",
       "      <td>26</td>\n",
       "      <td>0</td>\n",
       "      <td>1</td>\n",
       "      <td>8</td>\n",
       "      <td>18</td>\n",
       "      <td>16</td>\n",
       "      <td>266</td>\n",
       "      <td>8</td>\n",
       "      <td>0</td>\n",
       "    </tr>\n",
       "    <tr>\n",
       "      <th>10478</th>\n",
       "      <td>20</td>\n",
       "      <td>0</td>\n",
       "      <td>1</td>\n",
       "      <td>3</td>\n",
       "      <td>0</td>\n",
       "      <td>0</td>\n",
       "      <td>0</td>\n",
       "      <td>1</td>\n",
       "      <td>4</td>\n",
       "      <td>3</td>\n",
       "      <td>...</td>\n",
       "      <td>15</td>\n",
       "      <td>26</td>\n",
       "      <td>0</td>\n",
       "      <td>1</td>\n",
       "      <td>9</td>\n",
       "      <td>23</td>\n",
       "      <td>8</td>\n",
       "      <td>284</td>\n",
       "      <td>10</td>\n",
       "      <td>0</td>\n",
       "    </tr>\n",
       "    <tr>\n",
       "      <th>1582</th>\n",
       "      <td>27</td>\n",
       "      <td>9</td>\n",
       "      <td>1</td>\n",
       "      <td>5</td>\n",
       "      <td>1</td>\n",
       "      <td>0</td>\n",
       "      <td>2</td>\n",
       "      <td>1</td>\n",
       "      <td>6</td>\n",
       "      <td>0</td>\n",
       "      <td>...</td>\n",
       "      <td>3</td>\n",
       "      <td>26</td>\n",
       "      <td>0</td>\n",
       "      <td>1</td>\n",
       "      <td>8</td>\n",
       "      <td>18</td>\n",
       "      <td>16</td>\n",
       "      <td>264</td>\n",
       "      <td>8</td>\n",
       "      <td>0</td>\n",
       "    </tr>\n",
       "    <tr>\n",
       "      <th>...</th>\n",
       "      <td>...</td>\n",
       "      <td>...</td>\n",
       "      <td>...</td>\n",
       "      <td>...</td>\n",
       "      <td>...</td>\n",
       "      <td>...</td>\n",
       "      <td>...</td>\n",
       "      <td>...</td>\n",
       "      <td>...</td>\n",
       "      <td>...</td>\n",
       "      <td>...</td>\n",
       "      <td>...</td>\n",
       "      <td>...</td>\n",
       "      <td>...</td>\n",
       "      <td>...</td>\n",
       "      <td>...</td>\n",
       "      <td>...</td>\n",
       "      <td>...</td>\n",
       "      <td>...</td>\n",
       "      <td>...</td>\n",
       "      <td>...</td>\n",
       "    </tr>\n",
       "    <tr>\n",
       "      <th>41174</th>\n",
       "      <td>45</td>\n",
       "      <td>5</td>\n",
       "      <td>1</td>\n",
       "      <td>6</td>\n",
       "      <td>0</td>\n",
       "      <td>2</td>\n",
       "      <td>0</td>\n",
       "      <td>0</td>\n",
       "      <td>7</td>\n",
       "      <td>2</td>\n",
       "      <td>...</td>\n",
       "      <td>0</td>\n",
       "      <td>1</td>\n",
       "      <td>6</td>\n",
       "      <td>2</td>\n",
       "      <td>5</td>\n",
       "      <td>25</td>\n",
       "      <td>0</td>\n",
       "      <td>165</td>\n",
       "      <td>0</td>\n",
       "      <td>1</td>\n",
       "    </tr>\n",
       "    <tr>\n",
       "      <th>41178</th>\n",
       "      <td>45</td>\n",
       "      <td>5</td>\n",
       "      <td>1</td>\n",
       "      <td>6</td>\n",
       "      <td>0</td>\n",
       "      <td>0</td>\n",
       "      <td>0</td>\n",
       "      <td>0</td>\n",
       "      <td>7</td>\n",
       "      <td>2</td>\n",
       "      <td>...</td>\n",
       "      <td>1</td>\n",
       "      <td>6</td>\n",
       "      <td>3</td>\n",
       "      <td>2</td>\n",
       "      <td>5</td>\n",
       "      <td>25</td>\n",
       "      <td>0</td>\n",
       "      <td>165</td>\n",
       "      <td>0</td>\n",
       "      <td>1</td>\n",
       "    </tr>\n",
       "    <tr>\n",
       "      <th>41181</th>\n",
       "      <td>20</td>\n",
       "      <td>0</td>\n",
       "      <td>1</td>\n",
       "      <td>6</td>\n",
       "      <td>0</td>\n",
       "      <td>2</td>\n",
       "      <td>0</td>\n",
       "      <td>0</td>\n",
       "      <td>7</td>\n",
       "      <td>0</td>\n",
       "      <td>...</td>\n",
       "      <td>0</td>\n",
       "      <td>26</td>\n",
       "      <td>0</td>\n",
       "      <td>1</td>\n",
       "      <td>5</td>\n",
       "      <td>25</td>\n",
       "      <td>0</td>\n",
       "      <td>162</td>\n",
       "      <td>0</td>\n",
       "      <td>1</td>\n",
       "    </tr>\n",
       "    <tr>\n",
       "      <th>41183</th>\n",
       "      <td>56</td>\n",
       "      <td>5</td>\n",
       "      <td>1</td>\n",
       "      <td>5</td>\n",
       "      <td>0</td>\n",
       "      <td>2</td>\n",
       "      <td>0</td>\n",
       "      <td>0</td>\n",
       "      <td>7</td>\n",
       "      <td>0</td>\n",
       "      <td>...</td>\n",
       "      <td>0</td>\n",
       "      <td>26</td>\n",
       "      <td>0</td>\n",
       "      <td>1</td>\n",
       "      <td>5</td>\n",
       "      <td>25</td>\n",
       "      <td>0</td>\n",
       "      <td>162</td>\n",
       "      <td>0</td>\n",
       "      <td>1</td>\n",
       "    </tr>\n",
       "    <tr>\n",
       "      <th>41186</th>\n",
       "      <td>27</td>\n",
       "      <td>9</td>\n",
       "      <td>1</td>\n",
       "      <td>5</td>\n",
       "      <td>0</td>\n",
       "      <td>0</td>\n",
       "      <td>0</td>\n",
       "      <td>0</td>\n",
       "      <td>7</td>\n",
       "      <td>0</td>\n",
       "      <td>...</td>\n",
       "      <td>0</td>\n",
       "      <td>26</td>\n",
       "      <td>0</td>\n",
       "      <td>1</td>\n",
       "      <td>5</td>\n",
       "      <td>25</td>\n",
       "      <td>0</td>\n",
       "      <td>162</td>\n",
       "      <td>0</td>\n",
       "      <td>1</td>\n",
       "    </tr>\n",
       "  </tbody>\n",
       "</table>\n",
       "<p>9280 rows × 21 columns</p>\n",
       "</div>"
      ],
      "text/plain": [
       "       age  job  marital  education  default  housing  loan  contact  month  \\\n",
       "20507   18    6        1          6        0        0     0        0      1   \n",
       "33693   18    6        2          3        0        2     0        0      6   \n",
       "641     12    0        1          3        0        2     0        1      6   \n",
       "10478   20    0        1          3        0        0     0        1      4   \n",
       "1582    27    9        1          5        1        0     2        1      6   \n",
       "...    ...  ...      ...        ...      ...      ...   ...      ...    ...   \n",
       "41174   45    5        1          6        0        2     0        0      7   \n",
       "41178   45    5        1          6        0        0     0        0      7   \n",
       "41181   20    0        1          6        0        2     0        0      7   \n",
       "41183   56    5        1          5        0        2     0        0      7   \n",
       "41186   27    9        1          5        0        0     0        0      7   \n",
       "\n",
       "       day_of_week  ...  campaign  pdays  previous  poutcome  emp.var.rate  \\\n",
       "20507            3  ...         1     26         0         1             9   \n",
       "33693            4  ...         0     26         1         0             3   \n",
       "641              3  ...         2     26         0         1             8   \n",
       "10478            3  ...        15     26         0         1             9   \n",
       "1582             0  ...         3     26         0         1             8   \n",
       "...            ...  ...       ...    ...       ...       ...           ...   \n",
       "41174            2  ...         0      1         6         2             5   \n",
       "41178            2  ...         1      6         3         2             5   \n",
       "41181            0  ...         0     26         0         1             5   \n",
       "41183            0  ...         0     26         0         1             5   \n",
       "41186            0  ...         0     26         0         1             5   \n",
       "\n",
       "       cons.price.idx  cons.conf.idx  euribor3m  nr.employed  y  \n",
       "20507              13             17        289           10  0  \n",
       "33693               8              4        197            6  0  \n",
       "641                18             16        266            8  0  \n",
       "10478              23              8        284           10  0  \n",
       "1582               18             16        264            8  0  \n",
       "...               ...            ...        ...          ... ..  \n",
       "41174              25              0        165            0  1  \n",
       "41178              25              0        165            0  1  \n",
       "41181              25              0        162            0  1  \n",
       "41183              25              0        162            0  1  \n",
       "41186              25              0        162            0  1  \n",
       "\n",
       "[9280 rows x 21 columns]"
      ]
     },
     "execution_count": 12,
     "metadata": {},
     "output_type": "execute_result"
    }
   ],
   "source": [
    "from sklearn.preprocessing import LabelEncoder\n",
    "\n",
    "# Initialize LabelEncoder\n",
    "encoder = LabelEncoder()\n",
    "\n",
    "# Apply LabelEncoder to each column in the DataFrame\n",
    "data_df = new_data.apply(encoder.fit_transform)\n",
    "\n",
    "# Now encoded_features contains your original DataFrame with string values replaced by integers\n",
    "data_df\n"
   ]
  },
  {
   "cell_type": "code",
   "execution_count": 13,
   "id": "42e960b1",
   "metadata": {
    "execution": {
     "iopub.execute_input": "2024-07-13T09:27:07.696949Z",
     "iopub.status.busy": "2024-07-13T09:27:07.696523Z",
     "iopub.status.idle": "2024-07-13T09:27:07.706459Z",
     "shell.execute_reply": "2024-07-13T09:27:07.705378Z"
    },
    "papermill": {
     "duration": 0.024727,
     "end_time": "2024-07-13T09:27:07.708523",
     "exception": false,
     "start_time": "2024-07-13T09:27:07.683796",
     "status": "completed"
    },
    "tags": []
   },
   "outputs": [
    {
     "data": {
      "text/plain": [
       "y\n",
       "0    4640\n",
       "1    4640\n",
       "Name: count, dtype: int64"
      ]
     },
     "execution_count": 13,
     "metadata": {},
     "output_type": "execute_result"
    }
   ],
   "source": [
    "data_df.y.value_counts()"
   ]
  },
  {
   "cell_type": "markdown",
   "id": "771fbded",
   "metadata": {
    "papermill": {
     "duration": 0.011283,
     "end_time": "2024-07-13T09:27:07.731775",
     "exception": false,
     "start_time": "2024-07-13T09:27:07.720492",
     "status": "completed"
    },
    "tags": []
   },
   "source": [
    "# make values within the range [0, 1]"
   ]
  },
  {
   "cell_type": "code",
   "execution_count": 14,
   "id": "f3b69982",
   "metadata": {
    "execution": {
     "iopub.execute_input": "2024-07-13T09:27:07.755585Z",
     "iopub.status.busy": "2024-07-13T09:27:07.755176Z",
     "iopub.status.idle": "2024-07-13T09:27:07.768422Z",
     "shell.execute_reply": "2024-07-13T09:27:07.767377Z"
    },
    "papermill": {
     "duration": 0.028001,
     "end_time": "2024-07-13T09:27:07.770843",
     "exception": false,
     "start_time": "2024-07-13T09:27:07.742842",
     "status": "completed"
    },
    "tags": []
   },
   "outputs": [
    {
     "data": {
      "text/plain": [
       "array([[0.24324324, 0.54545455, 0.33333333, ..., 0.9829932 , 1.        ,\n",
       "        0.        ],\n",
       "       [0.24324324, 0.54545455, 0.66666667, ..., 0.67006803, 0.6       ,\n",
       "        0.        ],\n",
       "       [0.16216216, 0.        , 0.33333333, ..., 0.9047619 , 0.8       ,\n",
       "        0.        ],\n",
       "       ...,\n",
       "       [0.27027027, 0.        , 0.33333333, ..., 0.55102041, 0.        ,\n",
       "        1.        ],\n",
       "       [0.75675676, 0.45454545, 0.33333333, ..., 0.55102041, 0.        ,\n",
       "        1.        ],\n",
       "       [0.36486486, 0.81818182, 0.33333333, ..., 0.55102041, 0.        ,\n",
       "        1.        ]])"
      ]
     },
     "execution_count": 14,
     "metadata": {},
     "output_type": "execute_result"
    }
   ],
   "source": [
    "from sklearn.preprocessing import MinMaxScaler\n",
    "\n",
    "# Initialize MinMaxScaler\n",
    "scaler = MinMaxScaler()\n",
    "\n",
    "# Fit the scaler on your data and transform it\n",
    "normalized_data = scaler.fit_transform(data_df)\n",
    "\n",
    "# normalized_data is now your data with each feature scaled to the range [0, 1]\n",
    "normalized_data"
   ]
  },
  {
   "cell_type": "code",
   "execution_count": 15,
   "id": "91a442ed",
   "metadata": {
    "execution": {
     "iopub.execute_input": "2024-07-13T09:27:07.795063Z",
     "iopub.status.busy": "2024-07-13T09:27:07.794261Z",
     "iopub.status.idle": "2024-07-13T09:27:07.803678Z",
     "shell.execute_reply": "2024-07-13T09:27:07.802628Z"
    },
    "papermill": {
     "duration": 0.024175,
     "end_time": "2024-07-13T09:27:07.806112",
     "exception": false,
     "start_time": "2024-07-13T09:27:07.781937",
     "status": "completed"
    },
    "tags": []
   },
   "outputs": [],
   "source": [
    "import numpy as np\n",
    "\n",
    "# Compute the correlation matrix using numpy's corrcoef() function\n",
    "corre = np.corrcoef(normalized_data, rowvar=False)\n",
    "\n",
    "\n"
   ]
  },
  {
   "cell_type": "code",
   "execution_count": 16,
   "id": "33f422ad",
   "metadata": {
    "execution": {
     "iopub.execute_input": "2024-07-13T09:27:07.829831Z",
     "iopub.status.busy": "2024-07-13T09:27:07.829439Z",
     "iopub.status.idle": "2024-07-13T09:27:09.695699Z",
     "shell.execute_reply": "2024-07-13T09:27:09.694347Z"
    },
    "papermill": {
     "duration": 1.885559,
     "end_time": "2024-07-13T09:27:09.702785",
     "exception": false,
     "start_time": "2024-07-13T09:27:07.817226",
     "status": "completed"
    },
    "tags": []
   },
   "outputs": [
    {
     "data": {
      "text/plain": [
       "<Axes: >"
      ]
     },
     "execution_count": 16,
     "metadata": {},
     "output_type": "execute_result"
    },
    {
     "data": {
      "image/png": "[encoded data removed]",
      "text/plain": [
       "<Figure size 3000x2000 with 2 Axes>"
      ]
     },
     "metadata": {},
     "output_type": "display_data"
    }
   ],
   "source": [
    "plt.figure(figsize=(30, 20))\n",
    "corre_rounded = np.round(corre,2)\n",
    "sns.heatmap(corre_rounded, cmap='RdBu', annot=True)\n"
   ]
  },
  {
   "cell_type": "code",
   "execution_count": 17,
   "id": "521995f7",
   "metadata": {
    "execution": {
     "iopub.execute_input": "2024-07-13T09:27:09.749738Z",
     "iopub.status.busy": "2024-07-13T09:27:09.748892Z",
     "iopub.status.idle": "2024-07-13T09:27:09.763187Z",
     "shell.execute_reply": "2024-07-13T09:27:09.762176Z"
    },
    "papermill": {
     "duration": 0.040036,
     "end_time": "2024-07-13T09:27:09.765279",
     "exception": false,
     "start_time": "2024-07-13T09:27:09.725243",
     "status": "completed"
    },
    "tags": []
   },
   "outputs": [
    {
     "data": {
      "text/plain": [
       "array([[0.        , 0.        , 0.07692308, ..., 0.52      , 0.9829932 ,\n",
       "        1.        ],\n",
       "       [0.        , 0.        , 0.07478632, ..., 0.32      , 0.67006803,\n",
       "        0.6       ],\n",
       "       [0.        , 1.        , 0.01780627, ..., 0.72      , 0.9047619 ,\n",
       "        0.8       ],\n",
       "       ...,\n",
       "       [0.        , 0.        , 0.19729345, ..., 1.        , 0.55102041,\n",
       "        0.        ],\n",
       "       [0.        , 0.        , 0.23504274, ..., 1.        , 0.55102041,\n",
       "        0.        ],\n",
       "       [0.        , 0.        , 0.31196581, ..., 1.        , 0.55102041,\n",
       "        0.        ]])"
      ]
     },
     "execution_count": 17,
     "metadata": {},
     "output_type": "execute_result"
    }
   ],
   "source": [
    "\n",
    "w=data_df.iloc[:,[4,7,10,11,12,15,16,18,19]]\n",
    "x=scaler.fit_transform(w)\n",
    "x"
   ]
  },
  {
   "cell_type": "code",
   "execution_count": 18,
   "id": "fdab1705",
   "metadata": {
    "execution": {
     "iopub.execute_input": "2024-07-13T09:27:09.797552Z",
     "iopub.status.busy": "2024-07-13T09:27:09.797005Z",
     "iopub.status.idle": "2024-07-13T09:27:09.805436Z",
     "shell.execute_reply": "2024-07-13T09:27:09.804252Z"
    },
    "papermill": {
     "duration": 0.026999,
     "end_time": "2024-07-13T09:27:09.807594",
     "exception": false,
     "start_time": "2024-07-13T09:27:09.780595",
     "status": "completed"
    },
    "tags": []
   },
   "outputs": [
    {
     "data": {
      "text/plain": [
       "20507    0\n",
       "33693    0\n",
       "641      0\n",
       "10478    0\n",
       "1582     0\n",
       "        ..\n",
       "41174    1\n",
       "41178    1\n",
       "41181    1\n",
       "41183    1\n",
       "41186    1\n",
       "Name: y, Length: 9280, dtype: int64"
      ]
     },
     "execution_count": 18,
     "metadata": {},
     "output_type": "execute_result"
    }
   ],
   "source": [
    "y=data_df.iloc[:,-1]\n",
    "y\n"
   ]
  },
  {
   "cell_type": "code",
   "execution_count": 19,
   "id": "ace445a0",
   "metadata": {
    "execution": {
     "iopub.execute_input": "2024-07-13T09:27:09.839959Z",
     "iopub.status.busy": "2024-07-13T09:27:09.839589Z",
     "iopub.status.idle": "2024-07-13T09:27:10.174264Z",
     "shell.execute_reply": "2024-07-13T09:27:10.173072Z"
    },
    "papermill": {
     "duration": 0.354159,
     "end_time": "2024-07-13T09:27:10.177015",
     "exception": false,
     "start_time": "2024-07-13T09:27:09.822856",
     "status": "completed"
    },
    "tags": []
   },
   "outputs": [],
   "source": [
    "from sklearn.model_selection import train_test_split\n",
    "from sklearn.svm import SVC\n",
    "from sklearn.linear_model import LogisticRegression\n",
    "from sklearn.neighbors import KNeighborsClassifier\n",
    "\n",
    "from sklearn.tree import DecisionTreeClassifier\n",
    "from sklearn.ensemble import RandomForestClassifier\n",
    "from sklearn.naive_bayes import GaussianNB, MultinomialNB\n",
    "from sklearn.metrics import accuracy_score, recall_score"
   ]
  },
  {
   "cell_type": "code",
   "execution_count": 20,
   "id": "0981d87a",
   "metadata": {
    "execution": {
     "iopub.execute_input": "2024-07-13T09:27:10.209944Z",
     "iopub.status.busy": "2024-07-13T09:27:10.209556Z",
     "iopub.status.idle": "2024-07-13T09:27:10.219425Z",
     "shell.execute_reply": "2024-07-13T09:27:10.218047Z"
    },
    "papermill": {
     "duration": 0.029261,
     "end_time": "2024-07-13T09:27:10.221949",
     "exception": false,
     "start_time": "2024-07-13T09:27:10.192688",
     "status": "completed"
    },
    "tags": []
   },
   "outputs": [],
   "source": [
    "x_train,x_test,y_train,y_test=train_test_split(x,y,test_size=0.2,random_state=22)"
   ]
  },
  {
   "cell_type": "markdown",
   "id": "73e07ade",
   "metadata": {
    "papermill": {
     "duration": 0.016137,
     "end_time": "2024-07-13T09:27:10.257080",
     "exception": false,
     "start_time": "2024-07-13T09:27:10.240943",
     "status": "completed"
    },
    "tags": []
   },
   "source": [
    "# SVM"
   ]
  },
  {
   "cell_type": "code",
   "execution_count": 21,
   "id": "8cef5e48",
   "metadata": {
    "execution": {
     "iopub.execute_input": "2024-07-13T09:27:10.294835Z",
     "iopub.status.busy": "2024-07-13T09:27:10.294435Z",
     "iopub.status.idle": "2024-07-13T09:27:11.261181Z",
     "shell.execute_reply": "2024-07-13T09:27:11.260112Z"
    },
    "papermill": {
     "duration": 0.990484,
     "end_time": "2024-07-13T09:27:11.263569",
     "exception": false,
     "start_time": "2024-07-13T09:27:10.273085",
     "status": "completed"
    },
    "tags": []
   },
   "outputs": [
    {
     "data": {
      "text/html": [
       "<style>#sk-container-id-1 {color: black;background-color: white;}#sk-container-id-1 pre{padding: 0;}#sk-container-id-1 div.sk-toggleable {background-color: white;}#sk-container-id-1 label.sk-toggleable__label {cursor: pointer;display: block;width: 100%;margin-bottom: 0;padding: 0.3em;box-sizing: border-box;text-align: center;}#sk-container-id-1 label.sk-toggleable__label-arrow:before {content: \"▸\";float: left;margin-right: 0.25em;color: #696969;}#sk-container-id-1 label.sk-toggleable__label-arrow:hover:before {color: black;}#sk-container-id-1 div.sk-estimator:hover label.sk-toggleable__label-arrow:before {color: black;}#sk-container-id-1 div.sk-toggleable__content {max-height: 0;max-width: 0;overflow: hidden;text-align: left;background-color: #f0f8ff;}#sk-container-id-1 div.sk-toggleable__content pre {margin: 0.2em;color: black;border-radius: 0.25em;background-color: #f0f8ff;}#sk-container-id-1 input.sk-toggleable__control:checked~div.sk-toggleable__content {max-height: 200px;max-width: 100%;overflow: auto;}#sk-container-id-1 input.sk-toggleable__control:checked~label.sk-toggleable__label-arrow:before {content: \"▾\";}#sk-container-id-1 div.sk-estimator input.sk-toggleable__control:checked~label.sk-toggleable__label {background-color: #d4ebff;}#sk-container-id-1 div.sk-label input.sk-toggleable__control:checked~label.sk-toggleable__label {background-color: #d4ebff;}#sk-container-id-1 input.sk-hidden--visually {border: 0;clip: rect(1px 1px 1px 1px);clip: rect(1px, 1px, 1px, 1px);height: 1px;margin: -1px;overflow: hidden;padding: 0;position: absolute;width: 1px;}#sk-container-id-1 div.sk-estimator {font-family: monospace;background-color: #f0f8ff;border: 1px dotted black;border-radius: 0.25em;box-sizing: border-box;margin-bottom: 0.5em;}#sk-container-id-1 div.sk-estimator:hover {background-color: #d4ebff;}#sk-container-id-1 div.sk-parallel-item::after {content: \"\";width: 100%;border-bottom: 1px solid gray;flex-grow: 1;}#sk-container-id-1 div.sk-label:hover label.sk-toggleable__label {background-color: #d4ebff;}#sk-container-id-1 div.sk-serial::before {content: \"\";position: absolute;border-left: 1px solid gray;box-sizing: border-box;top: 0;bottom: 0;left: 50%;z-index: 0;}#sk-container-id-1 div.sk-serial {display: flex;flex-direction: column;align-items: center;background-color: white;padding-right: 0.2em;padding-left: 0.2em;position: relative;}#sk-container-id-1 div.sk-item {position: relative;z-index: 1;}#sk-container-id-1 div.sk-parallel {display: flex;align-items: stretch;justify-content: center;background-color: white;position: relative;}#sk-container-id-1 div.sk-item::before, #sk-container-id-1 div.sk-parallel-item::before {content: \"\";position: absolute;border-left: 1px solid gray;box-sizing: border-box;top: 0;bottom: 0;left: 50%;z-index: -1;}#sk-container-id-1 div.sk-parallel-item {display: flex;flex-direction: column;z-index: 1;position: relative;background-color: white;}#sk-container-id-1 div.sk-parallel-item:first-child::after {align-self: flex-end;width: 50%;}#sk-container-id-1 div.sk-parallel-item:last-child::after {align-self: flex-start;width: 50%;}#sk-container-id-1 div.sk-parallel-item:only-child::after {width: 0;}#sk-container-id-1 div.sk-dashed-wrapped {border: 1px dashed gray;margin: 0 0.4em 0.5em 0.4em;box-sizing: border-box;padding-bottom: 0.4em;background-color: white;}#sk-container-id-1 div.sk-label label {font-family: monospace;font-weight: bold;display: inline-block;line-height: 1.2em;}#sk-container-id-1 div.sk-label-container {text-align: center;}#sk-container-id-1 div.sk-container {/* jupyter's `normalize.less` sets `[hidden] { display: none; }` but bootstrap.min.css set `[hidden] { display: none !important; }` so we also need the `!important` here to be able to override the default hidden behavior on the sphinx rendered scikit-learn.org. See: https://github.com/scikit-learn/scikit-learn/issues/21755 */display: inline-block !important;position: relative;}#sk-container-id-1 div.sk-text-repr-fallback {display: none;}</style><div id=\"sk-container-id-1\" class=\"sk-top-container\"><div class=\"sk-text-repr-fallback\"><pre>SVC(kernel=&#x27;linear&#x27;)</pre><b>In a Jupyter environment, please rerun this cell to show the HTML representation or trust the notebook. <br />On GitHub, the HTML representation is unable to render, please try loading this page with nbviewer.org.</b></div><div class=\"sk-container\" hidden><div class=\"sk-item\"><div class=\"sk-estimator sk-toggleable\"><input class=\"sk-toggleable__control sk-hidden--visually\" id=\"sk-estimator-id-1\" type=\"checkbox\" checked><label for=\"sk-estimator-id-1\" class=\"sk-toggleable__label sk-toggleable__label-arrow\">SVC</label><div class=\"sk-toggleable__content\"><pre>SVC(kernel=&#x27;linear&#x27;)</pre></div></div></div></div></div>"
      ],
      "text/plain": [
       "SVC(kernel='linear')"
      ]
     },
     "execution_count": 21,
     "metadata": {},
     "output_type": "execute_result"
    }
   ],
   "source": [
    "sv=SVC(kernel='linear')\n",
    "\n",
    "sv.fit(x_train,y_train)"
   ]
  },
  {
   "cell_type": "code",
   "execution_count": 22,
   "id": "39422204",
   "metadata": {
    "execution": {
     "iopub.execute_input": "2024-07-13T09:27:11.297344Z",
     "iopub.status.busy": "2024-07-13T09:27:11.296354Z",
     "iopub.status.idle": "2024-07-13T09:27:11.438583Z",
     "shell.execute_reply": "2024-07-13T09:27:11.437319Z"
    },
    "papermill": {
     "duration": 0.161671,
     "end_time": "2024-07-13T09:27:11.441067",
     "exception": false,
     "start_time": "2024-07-13T09:27:11.279396",
     "status": "completed"
    },
    "tags": []
   },
   "outputs": [
    {
     "name": "stdout",
     "output_type": "stream",
     "text": [
      "accuracy is :  0.8399784482758621\n"
     ]
    }
   ],
   "source": [
    "pred=sv.predict(x_test)\n",
    "acc=accuracy_score(y_test,pred)\n",
    "print('accuracy is : ',acc)"
   ]
  },
  {
   "cell_type": "markdown",
   "id": "fcf46352",
   "metadata": {
    "papermill": {
     "duration": 0.01578,
     "end_time": "2024-07-13T09:27:11.472819",
     "exception": false,
     "start_time": "2024-07-13T09:27:11.457039",
     "status": "completed"
    },
    "tags": []
   },
   "source": [
    "# LogisticRegression"
   ]
  },
  {
   "cell_type": "code",
   "execution_count": 23,
   "id": "40e14433",
   "metadata": {
    "execution": {
     "iopub.execute_input": "2024-07-13T09:27:11.505989Z",
     "iopub.status.busy": "2024-07-13T09:27:11.505603Z",
     "iopub.status.idle": "2024-07-13T09:27:11.548549Z",
     "shell.execute_reply": "2024-07-13T09:27:11.547091Z"
    },
    "papermill": {
     "duration": 0.063527,
     "end_time": "2024-07-13T09:27:11.552093",
     "exception": false,
     "start_time": "2024-07-13T09:27:11.488566",
     "status": "completed"
    },
    "tags": []
   },
   "outputs": [],
   "source": [
    "log_reg = LogisticRegression() \n",
    "log_reg.fit(x_train,y_train)\n",
    "pred_2=log_reg.predict(x_test)"
   ]
  },
  {
   "cell_type": "code",
   "execution_count": 24,
   "id": "82c683e4",
   "metadata": {
    "execution": {
     "iopub.execute_input": "2024-07-13T09:27:11.607529Z",
     "iopub.status.busy": "2024-07-13T09:27:11.606982Z",
     "iopub.status.idle": "2024-07-13T09:27:11.614882Z",
     "shell.execute_reply": "2024-07-13T09:27:11.613870Z"
    },
    "papermill": {
     "duration": 0.039511,
     "end_time": "2024-07-13T09:27:11.618411",
     "exception": false,
     "start_time": "2024-07-13T09:27:11.578900",
     "status": "completed"
    },
    "tags": []
   },
   "outputs": [
    {
     "name": "stdout",
     "output_type": "stream",
     "text": [
      "accuracy is :  0.837823275862069\n"
     ]
    }
   ],
   "source": [
    "acc=accuracy_score(y_test,pred_2)\n",
    "print('accuracy is : ',acc)"
   ]
  },
  {
   "cell_type": "markdown",
   "id": "c9fef465",
   "metadata": {
    "papermill": {
     "duration": 0.077626,
     "end_time": "2024-07-13T09:27:11.723919",
     "exception": false,
     "start_time": "2024-07-13T09:27:11.646293",
     "status": "completed"
    },
    "tags": []
   },
   "source": [
    "# KNeighborsClassifier"
   ]
  },
  {
   "cell_type": "code",
   "execution_count": 25,
   "id": "37134d2f",
   "metadata": {
    "execution": {
     "iopub.execute_input": "2024-07-13T09:27:11.757913Z",
     "iopub.status.busy": "2024-07-13T09:27:11.757154Z",
     "iopub.status.idle": "2024-07-13T09:27:11.913573Z",
     "shell.execute_reply": "2024-07-13T09:27:11.912500Z"
    },
    "papermill": {
     "duration": 0.176208,
     "end_time": "2024-07-13T09:27:11.916225",
     "exception": false,
     "start_time": "2024-07-13T09:27:11.740017",
     "status": "completed"
    },
    "tags": []
   },
   "outputs": [],
   "source": [
    "\n",
    "knn_classifier = KNeighborsClassifier(n_neighbors=5)\n",
    "\n",
    "knn_classifier.fit(x_train, y_train)\n",
    "\n",
    "y_pred = knn_classifier.predict(x_test)\n"
   ]
  },
  {
   "cell_type": "code",
   "execution_count": 26,
   "id": "e59ec6b0",
   "metadata": {
    "execution": {
     "iopub.execute_input": "2024-07-13T09:27:11.950845Z",
     "iopub.status.busy": "2024-07-13T09:27:11.949921Z",
     "iopub.status.idle": "2024-07-13T09:27:11.956730Z",
     "shell.execute_reply": "2024-07-13T09:27:11.955758Z"
    },
    "papermill": {
     "duration": 0.026333,
     "end_time": "2024-07-13T09:27:11.958941",
     "exception": false,
     "start_time": "2024-07-13T09:27:11.932608",
     "status": "completed"
    },
    "tags": []
   },
   "outputs": [
    {
     "name": "stdout",
     "output_type": "stream",
     "text": [
      "accuracy is :  0.8636853448275862\n"
     ]
    }
   ],
   "source": [
    "acc=accuracy_score(y_test,y_pred)\n",
    "print('accuracy is : ',acc)"
   ]
  },
  {
   "cell_type": "markdown",
   "id": "0818464c",
   "metadata": {
    "papermill": {
     "duration": 0.016097,
     "end_time": "2024-07-13T09:27:11.991138",
     "exception": false,
     "start_time": "2024-07-13T09:27:11.975041",
     "status": "completed"
    },
    "tags": []
   },
   "source": [
    "# DecisionTreeClassifier"
   ]
  },
  {
   "cell_type": "code",
   "execution_count": 27,
   "id": "4b4fe336",
   "metadata": {
    "execution": {
     "iopub.execute_input": "2024-07-13T09:27:12.025194Z",
     "iopub.status.busy": "2024-07-13T09:27:12.024243Z",
     "iopub.status.idle": "2024-07-13T09:27:12.055250Z",
     "shell.execute_reply": "2024-07-13T09:27:12.054147Z"
    },
    "papermill": {
     "duration": 0.050725,
     "end_time": "2024-07-13T09:27:12.057791",
     "exception": false,
     "start_time": "2024-07-13T09:27:12.007066",
     "status": "completed"
    },
    "tags": []
   },
   "outputs": [],
   "source": [
    "tree=DecisionTreeClassifier()\n",
    "tree.fit(x_train, y_train)\n",
    "pred_3=tree.predict(x_test)"
   ]
  },
  {
   "cell_type": "code",
   "execution_count": 28,
   "id": "9aee7ddf",
   "metadata": {
    "execution": {
     "iopub.execute_input": "2024-07-13T09:27:12.092502Z",
     "iopub.status.busy": "2024-07-13T09:27:12.091529Z",
     "iopub.status.idle": "2024-07-13T09:27:12.099240Z",
     "shell.execute_reply": "2024-07-13T09:27:12.097982Z"
    },
    "papermill": {
     "duration": 0.027387,
     "end_time": "2024-07-13T09:27:12.101502",
     "exception": false,
     "start_time": "2024-07-13T09:27:12.074115",
     "status": "completed"
    },
    "tags": []
   },
   "outputs": [
    {
     "name": "stdout",
     "output_type": "stream",
     "text": [
      "accuracy is :  0.8216594827586207\n"
     ]
    }
   ],
   "source": [
    "acc=accuracy_score(y_test,pred_3)\n",
    "print('accuracy is : ',acc)"
   ]
  },
  {
   "cell_type": "markdown",
   "id": "3f7a9a08",
   "metadata": {
    "papermill": {
     "duration": 0.015835,
     "end_time": "2024-07-13T09:27:12.133608",
     "exception": false,
     "start_time": "2024-07-13T09:27:12.117773",
     "status": "completed"
    },
    "tags": []
   },
   "source": [
    "# RandomForestClassifier"
   ]
  },
  {
   "cell_type": "code",
   "execution_count": 29,
   "id": "6dd6d909",
   "metadata": {
    "execution": {
     "iopub.execute_input": "2024-07-13T09:27:12.168314Z",
     "iopub.status.busy": "2024-07-13T09:27:12.167335Z",
     "iopub.status.idle": "2024-07-13T09:27:13.074056Z",
     "shell.execute_reply": "2024-07-13T09:27:13.072985Z"
    },
    "papermill": {
     "duration": 0.926851,
     "end_time": "2024-07-13T09:27:13.076831",
     "exception": false,
     "start_time": "2024-07-13T09:27:12.149980",
     "status": "completed"
    },
    "tags": []
   },
   "outputs": [],
   "source": [
    "forest=RandomForestClassifier()\n",
    "forest.fit(x_train,y_train)\n",
    "pred_4=forest.predict(x_test)"
   ]
  },
  {
   "cell_type": "code",
   "execution_count": 30,
   "id": "d4d655fd",
   "metadata": {
    "execution": {
     "iopub.execute_input": "2024-07-13T09:27:13.111770Z",
     "iopub.status.busy": "2024-07-13T09:27:13.110815Z",
     "iopub.status.idle": "2024-07-13T09:27:13.117990Z",
     "shell.execute_reply": "2024-07-13T09:27:13.116878Z"
    },
    "papermill": {
     "duration": 0.026985,
     "end_time": "2024-07-13T09:27:13.120116",
     "exception": false,
     "start_time": "2024-07-13T09:27:13.093131",
     "status": "completed"
    },
    "tags": []
   },
   "outputs": [
    {
     "name": "stdout",
     "output_type": "stream",
     "text": [
      "accuracy is :  0.8631465517241379\n"
     ]
    }
   ],
   "source": [
    "acc=accuracy_score(y_test,pred_4)\n",
    "print('accuracy is : ',acc)"
   ]
  },
  {
   "cell_type": "markdown",
   "id": "255318dc",
   "metadata": {
    "papermill": {
     "duration": 0.015945,
     "end_time": "2024-07-13T09:27:13.152368",
     "exception": false,
     "start_time": "2024-07-13T09:27:13.136423",
     "status": "completed"
    },
    "tags": []
   },
   "source": [
    "# GaussianNB\n"
   ]
  },
  {
   "cell_type": "code",
   "execution_count": 31,
   "id": "7b8c3097",
   "metadata": {
    "execution": {
     "iopub.execute_input": "2024-07-13T09:27:13.186380Z",
     "iopub.status.busy": "2024-07-13T09:27:13.185983Z",
     "iopub.status.idle": "2024-07-13T09:27:13.197343Z",
     "shell.execute_reply": "2024-07-13T09:27:13.196222Z"
    },
    "papermill": {
     "duration": 0.031124,
     "end_time": "2024-07-13T09:27:13.199761",
     "exception": false,
     "start_time": "2024-07-13T09:27:13.168637",
     "status": "completed"
    },
    "tags": []
   },
   "outputs": [],
   "source": [
    "model = GaussianNB()\n",
    "model.fit(x_train, y_train)\n",
    "pred_5 = model.predict(x_test)\n",
    "\n"
   ]
  },
  {
   "cell_type": "code",
   "execution_count": 32,
   "id": "6d951396",
   "metadata": {
    "execution": {
     "iopub.execute_input": "2024-07-13T09:27:13.234018Z",
     "iopub.status.busy": "2024-07-13T09:27:13.233617Z",
     "iopub.status.idle": "2024-07-13T09:27:13.241329Z",
     "shell.execute_reply": "2024-07-13T09:27:13.240234Z"
    },
    "papermill": {
     "duration": 0.027356,
     "end_time": "2024-07-13T09:27:13.243444",
     "exception": false,
     "start_time": "2024-07-13T09:27:13.216088",
     "status": "completed"
    },
    "tags": []
   },
   "outputs": [
    {
     "name": "stdout",
     "output_type": "stream",
     "text": [
      "accuracy is :  0.7720905172413793\n"
     ]
    }
   ],
   "source": [
    "acc=accuracy_score(y_test,pred_5)\n",
    "print('accuracy is : ',acc)"
   ]
  },
  {
   "cell_type": "code",
   "execution_count": null,
   "id": "03260c05",
   "metadata": {
    "papermill": {
     "duration": 0.015986,
     "end_time": "2024-07-13T09:27:13.275909",
     "exception": false,
     "start_time": "2024-07-13T09:27:13.259923",
     "status": "completed"
    },
    "tags": []
   },
   "outputs": [],
   "source": []
  }
 ],
 "metadata": {
  "kaggle": {
   "accelerator": "none",
   "dataSources": [
    {
     "datasetId": 30368,
     "sourceId": 38700,
     "sourceType": "datasetVersion"
    }
   ],
   "dockerImageVersionId": 30698,
   "isGpuEnabled": false,
   "isInternetEnabled": true,
   "language": "python",
   "sourceType": "notebook"
  },
  "kernelspec": {
   "display_name": "Python 3",
   "language": "python",
   "name": "python3"
  },
  "language_info": {
   "codemirror_mode": {
    "name": "ipython",
    "version": 3
   },
   "file_extension": ".py",
   "mimetype": "text/x-python",
   "name": "python",
   "nbconvert_exporter": "python",
   "pygments_lexer": "ipython3",
   "version": "3.10.13"
  },
  "papermill": {
   "default_parameters": {},
   "duration": 12.282829,
   "end_time": "2024-07-13T09:27:13.913486",
   "environment_variables": {},
   "exception": null,
   "input_path": "__notebook__.ipynb",
   "output_path": "__notebook__.ipynb",
   "parameters": {},
   "start_time": "2024-07-13T09:27:01.630657",
   "version": "2.5.0"
  }
 },
 "nbformat": 4,
 "nbformat_minor": 5
}
